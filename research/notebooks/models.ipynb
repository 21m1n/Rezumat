{
 "cells": [
  {
   "cell_type": "markdown",
   "metadata": {},
   "source": [
    "# pretrained models\n"
   ]
  },
  {
   "cell_type": "code",
   "execution_count": 5,
   "metadata": {},
   "outputs": [],
   "source": [
    "# # Load model directly\n",
    "# from transformers import AutoTokenizer, AutoModelForMaskedLM\n",
    "\n",
    "# tokenizer = AutoTokenizer.from_pretrained(\"jjzha/jobbert-base-cased\")\n",
    "# model = AutoModelForMaskedLM.from_pretrained(\"jjzha/jobbert-base-cased\")"
   ]
  },
  {
   "cell_type": "code",
   "execution_count": 27,
   "metadata": {},
   "outputs": [],
   "source": [
    "text = \"\"\"\n",
    "Experienced iOS Developer with a strong command over Swift and objective C. \n",
    "Good knowledge of interface builder, Core animation, and Object oriented concepts. \n",
    "Familiarity with frameworks & web technologies. Excellent communication skills and pleasant in communication.\n",
    "\"\"\""
   ]
  },
  {
   "cell_type": "markdown",
   "metadata": {},
   "source": [
    "## job-BERT\n"
   ]
  },
  {
   "cell_type": "code",
   "execution_count": 25,
   "metadata": {},
   "outputs": [
    {
     "data": {
      "text/plain": [
       "[{'score': 0.987027645111084,\n",
       "  'token': 1483,\n",
       "  'token_str': 'English',\n",
       "  'sequence': 'Experienced iOS Developer with a strong command over Swift and objective C. Good knowledge of interface builder, Core animation, and Object oriented concepts. Familiarity with frameworks & web technologies. Excellent communication skills and pleasant in English.'},\n",
       " {'score': 0.003047160105779767,\n",
       "  'token': 1704,\n",
       "  'token_str': 'general',\n",
       "  'sequence': 'Experienced iOS Developer with a strong command over Swift and objective C. Good knowledge of interface builder, Core animation, and Object oriented concepts. Familiarity with frameworks & web technologies. Excellent communication skills and pleasant in general.'},\n",
       " {'score': 0.002113100839778781,\n",
       "  'token': 2269,\n",
       "  'token_str': 'writing',\n",
       "  'sequence': 'Experienced iOS Developer with a strong command over Swift and objective C. Good knowledge of interface builder, Core animation, and Object oriented concepts. Familiarity with frameworks & web technologies. Excellent communication skills and pleasant in writing.'},\n",
       " {'score': 0.0007852095295675099,\n",
       "  'token': 24929,\n",
       "  'token_str': '##quiries',\n",
       "  'sequence': 'Experienced iOS Developer with a strong command over Swift and objective C. Good knowledge of interface builder, Core animation, and Object oriented concepts. Familiarity with frameworks & web technologies. Excellent communication skills and pleasant inquiries.'},\n",
       " {'score': 0.0004465584934223443,\n",
       "  'token': 4055,\n",
       "  'token_str': 'speech',\n",
       "  'sequence': 'Experienced iOS Developer with a strong command over Swift and objective C. Good knowledge of interface builder, Core animation, and Object oriented concepts. Familiarity with frameworks & web technologies. Excellent communication skills and pleasant in speech.'}]"
      ]
     },
     "execution_count": 25,
     "metadata": {},
     "output_type": "execute_result"
    }
   ],
   "source": [
    "# Use a pipeline as a high-level helper\n",
    "from transformers import pipeline\n",
    "\n",
    "pipe = pipeline(\"fill-mask\", model=\"jjzha/jobbert-base-cased\")\n",
    "pipe.predict(text)"
   ]
  },
  {
   "cell_type": "markdown",
   "metadata": {},
   "source": [
    "## jobbert_skill_extraction\n"
   ]
  },
  {
   "cell_type": "code",
   "execution_count": 26,
   "metadata": {},
   "outputs": [],
   "source": [
    "# # Load model directly\n",
    "# from transformers import AutoTokenizer, AutoModelForTokenClassification\n",
    "\n",
    "# tokenizer = AutoTokenizer.from_pretrained(\"jjzha/jobbert_skill_extraction\")\n",
    "# model = AutoModelForTokenClassification.from_pretrained(\"jjzha/jobbert_skill_extraction\")"
   ]
  },
  {
   "cell_type": "markdown",
   "metadata": {},
   "source": [
    "## soft skills\n"
   ]
  },
  {
   "cell_type": "code",
   "execution_count": 29,
   "metadata": {},
   "outputs": [
    {
     "name": "stderr",
     "output_type": "stream",
     "text": [
      "Asking to truncate to max_length but no maximum length is provided and the model has no predefined maximum length. Default to no truncation.\n"
     ]
    },
    {
     "data": {
      "text/plain": [
       "[{'entity': 'B',\n",
       "  'score': 0.99989605,\n",
       "  'index': 44,\n",
       "  'word': 'communication',\n",
       "  'start': 220,\n",
       "  'end': 233},\n",
       " {'entity': 'I',\n",
       "  'score': 0.9999633,\n",
       "  'index': 45,\n",
       "  'word': 'skills',\n",
       "  'start': 234,\n",
       "  'end': 240}]"
      ]
     },
     "execution_count": 29,
     "metadata": {},
     "output_type": "execute_result"
    }
   ],
   "source": [
    "# extract soft skills\n",
    "from transformers import pipeline\n",
    "\n",
    "pipe = pipeline(\"token-classification\", model=\"jjzha/jobbert_skill_extraction\")\n",
    "pipe"
   ]
  },
  {
   "cell_type": "markdown",
   "metadata": {},
   "source": [
    "## tech skills\n"
   ]
  },
  {
   "cell_type": "code",
   "execution_count": 36,
   "metadata": {},
   "outputs": [
    {
     "name": "stderr",
     "output_type": "stream",
     "text": [
      "Asking to truncate to max_length but no maximum length is provided and the model has no predefined maximum length. Default to no truncation.\n"
     ]
    },
    {
     "name": "stdout",
     "output_type": "stream",
     "text": [
      "web technologies\n",
      "Swift\n",
      "objective C\n",
      "interface builder\n",
      "Core animation\n",
      "O\n",
      "##bject oriented concepts\n",
      "framework\n",
      "##s\n",
      "&\n"
     ]
    }
   ],
   "source": [
    "# Use a pipeline as a high-level helper\n",
    "from transformers import pipeline\n",
    "\n",
    "pipe = pipeline(\"token-classification\", model=\"jjzha/jobbert_knowledge_extraction\")\n",
    "results = pipe.predict(text)\n",
    "\n",
    "prev = \"\"\n",
    "\n",
    "for item in results:\n",
    "  \n",
    "  if item[\"entity\"] == \"B\":\n",
    "    print(string)\n",
    "    string = \"\"\n",
    "    string += item[\"word\"]\n",
    "  elif item[\"entity\"] == \"I\":\n",
    "    if item[\"word\"].startswith(\"##\"):\n",
    "      string += \" \" + item[\"word\"][2:]\n",
    "    else:\n",
    "    string += \" \" + item[\"word\"]"
   ]
  },
  {
   "cell_type": "code",
   "execution_count": 19,
   "metadata": {},
   "outputs": [
    {
     "name": "stderr",
     "output_type": "stream",
     "text": [
      "Asking to truncate to max_length but no maximum length is provided and the model has no predefined maximum length. Default to no truncation.\n"
     ]
    },
    {
     "data": {
      "text/plain": [
       "[{'entity': 'B',\n",
       "  'score': 0.999944,\n",
       "  'index': 12,\n",
       "  'word': 'Swift',\n",
       "  'start': 53,\n",
       "  'end': 58},\n",
       " {'entity': 'B',\n",
       "  'score': 0.99979335,\n",
       "  'index': 14,\n",
       "  'word': 'objective',\n",
       "  'start': 63,\n",
       "  'end': 72},\n",
       " {'entity': 'I',\n",
       "  'score': 0.99963605,\n",
       "  'index': 15,\n",
       "  'word': 'C',\n",
       "  'start': 73,\n",
       "  'end': 74},\n",
       " {'entity': 'B',\n",
       "  'score': 0.9999492,\n",
       "  'index': 20,\n",
       "  'word': 'interface',\n",
       "  'start': 94,\n",
       "  'end': 103},\n",
       " {'entity': 'I',\n",
       "  'score': 0.79917383,\n",
       "  'index': 21,\n",
       "  'word': 'builder',\n",
       "  'start': 104,\n",
       "  'end': 111},\n",
       " {'entity': 'B',\n",
       "  'score': 0.99990356,\n",
       "  'index': 23,\n",
       "  'word': 'Core',\n",
       "  'start': 113,\n",
       "  'end': 117},\n",
       " {'entity': 'I',\n",
       "  'score': 0.99866855,\n",
       "  'index': 24,\n",
       "  'word': 'animation',\n",
       "  'start': 118,\n",
       "  'end': 127},\n",
       " {'entity': 'B',\n",
       "  'score': 0.99995065,\n",
       "  'index': 27,\n",
       "  'word': 'O',\n",
       "  'start': 133,\n",
       "  'end': 134},\n",
       " {'entity': 'B',\n",
       "  'score': 0.99996674,\n",
       "  'index': 28,\n",
       "  'word': '##bject',\n",
       "  'start': 134,\n",
       "  'end': 139},\n",
       " {'entity': 'I',\n",
       "  'score': 0.9996817,\n",
       "  'index': 29,\n",
       "  'word': 'oriented',\n",
       "  'start': 140,\n",
       "  'end': 148},\n",
       " {'entity': 'I',\n",
       "  'score': 0.9998153,\n",
       "  'index': 30,\n",
       "  'word': 'concepts',\n",
       "  'start': 149,\n",
       "  'end': 157},\n",
       " {'entity': 'B',\n",
       "  'score': 0.99992263,\n",
       "  'index': 37,\n",
       "  'word': 'framework',\n",
       "  'start': 176,\n",
       "  'end': 185},\n",
       " {'entity': 'B',\n",
       "  'score': 0.9996437,\n",
       "  'index': 38,\n",
       "  'word': '##s',\n",
       "  'start': 185,\n",
       "  'end': 186},\n",
       " {'entity': 'B',\n",
       "  'score': 0.70778686,\n",
       "  'index': 39,\n",
       "  'word': '&',\n",
       "  'start': 187,\n",
       "  'end': 188},\n",
       " {'entity': 'B',\n",
       "  'score': 0.9412446,\n",
       "  'index': 40,\n",
       "  'word': 'web',\n",
       "  'start': 189,\n",
       "  'end': 192},\n",
       " {'entity': 'I',\n",
       "  'score': 0.99988794,\n",
       "  'index': 41,\n",
       "  'word': 'technologies',\n",
       "  'start': 193,\n",
       "  'end': 205}]"
      ]
     },
     "execution_count": 19,
     "metadata": {},
     "output_type": "execute_result"
    }
   ],
   "source": [
    "pipe.predict(\"Experienced iOS Developer with a strong command over Swift and objective C. Good knowledge of interface builder, Core animation, and Object oriented concepts. Familiarity with frameworks & web technologies. Excellent communication skills and pleasant in communication.\")"
   ]
  },
  {
   "cell_type": "code",
   "execution_count": null,
   "metadata": {},
   "outputs": [],
   "source": []
  }
 ],
 "metadata": {
  "kernelspec": {
   "display_name": "tf-gpu",
   "language": "python",
   "name": "python3"
  },
  "language_info": {
   "codemirror_mode": {
    "name": "ipython",
    "version": 3
   },
   "file_extension": ".py",
   "mimetype": "text/x-python",
   "name": "python",
   "nbconvert_exporter": "python",
   "pygments_lexer": "ipython3",
   "version": "3.11.4"
  }
 },
 "nbformat": 4,
 "nbformat_minor": 2
}
