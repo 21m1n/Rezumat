{
 "cells": [
  {
   "cell_type": "code",
   "execution_count": 5,
   "metadata": {},
   "outputs": [
    {
     "name": "stdout",
     "output_type": "stream",
     "text": [
      "       Category                                             Resume  \\\n",
      "0  Data Science  Skills * Programming Languages: Python (pandas...   \n",
      "1  Data Science  Education Details \\nMay 2013 to May 2017 B.E  ...   \n",
      "2  Data Science  Areas of Interest Deep Learning, Control Syste...   \n",
      "3  Data Science  Skills  R  Python  SAP HANA  Tableau  SAP HANA...   \n",
      "4  Data Science  Education Details \\n MCA   YMCAUST,  Faridabad...   \n",
      "\n",
      "                                     ID  \n",
      "0  af844c8b-de2a-47ff-9b7d-4466af8826c2  \n",
      "1  142b7d78-30b7-4f30-bf5a-b38ad3a0a69e  \n",
      "2  6f51df9f-06e9-4775-a003-c571c6c1b1ea  \n",
      "3  6ccbffb4-cc31-4bfe-91a4-beb5b346ee16  \n",
      "4  d65b586d-327a-49b5-b8bb-3e0d79880d63  \n",
      "              Job Title                                    Job Description\n",
      "0     Flutter Developer  We are looking for hire experts flutter develo...\n",
      "1      Django Developer  PYTHON/DJANGO (Developer/Lead) - Job Code(PDJ ...\n",
      "2      Machine Learning  Data Scientist (Contractor)\\n\\nBangalore, IN\\n...\n",
      "3         iOS Developer  JOB DESCRIPTION:\\n\\nStrong framework outside o...\n",
      "4  Full Stack Developer  job responsibility full stack engineer – react...\n",
      "         ID                                             Resume Category\n",
      "0  16852973  HR ADMINISTRATOR/MARKETING ASSOCIATE\\nHR ADMIN...       HR\n",
      "1  22323967  HR SPECIALIST, US HR OPERATIONS Summary Versat...       HR\n",
      "2  33176873  HR DIRECTOR Summary Over 20 years experience i...       HR\n",
      "3  27018550  HR SPECIALIST Summary Dedicated, Driven, and D...       HR\n",
      "4  17812897  HR MANAGER Skill Highlights HR SKILLS HR Depar...       HR\n"
     ]
    }
   ],
   "source": [
    "import pandas as pd\n",
    "from pathlib import Path\n",
    "\n",
    "data_path = \"../Resume-Screening-RAG-Pipeline/data/supplementary-data/\"\n",
    "cleaned_resume_path = data_path + \"cleaned_resume.csv\"\n",
    "job_description_path = data_path + \"job_title_des.csv\"\n",
    "all_data_path = data_path + \"alt-cleaned_resume.csv\"\n",
    "\n",
    "cleaned_resume = pd.read_csv(cleaned_resume_path)\n",
    "job_description = pd.read_csv(job_description_path)\n",
    "all_data = pd.read_csv(all_data_path)\n",
    "\n",
    "print(cleaned_resume.head())\n",
    "print(job_description.head())\n",
    "print(all_data.head())\n"
   ]
  },
  {
   "cell_type": "code",
   "execution_count": 9,
   "metadata": {},
   "outputs": [
    {
     "data": {
      "text/html": [
       "<div>\n",
       "<style scoped>\n",
       "    .dataframe tbody tr th:only-of-type {\n",
       "        vertical-align: middle;\n",
       "    }\n",
       "\n",
       "    .dataframe tbody tr th {\n",
       "        vertical-align: top;\n",
       "    }\n",
       "\n",
       "    .dataframe thead th {\n",
       "        text-align: right;\n",
       "    }\n",
       "</style>\n",
       "<table border=\"1\" class=\"dataframe\">\n",
       "  <thead>\n",
       "    <tr style=\"text-align: right;\">\n",
       "      <th></th>\n",
       "      <th>ID</th>\n",
       "      <th>Resume</th>\n",
       "    </tr>\n",
       "  </thead>\n",
       "  <tbody>\n",
       "    <tr>\n",
       "      <th>0</th>\n",
       "      <td>0</td>\n",
       "      <td>- :\\nAs a recent graduate in Computer Science...</td>\n",
       "    </tr>\n",
       "    <tr>\n",
       "      <th>1</th>\n",
       "      <td>1</td>\n",
       "      <td>()\\n\\nName: Jane Smith\\n\\nContact Information...</td>\n",
       "    </tr>\n",
       "    <tr>\n",
       "      <th>2</th>\n",
       "      <td>2</td>\n",
       "      <td>: \\n\\nName: Jane Doe\\n\\nAddress: 456 Main St, ...</td>\n",
       "    </tr>\n",
       "    <tr>\n",
       "      <th>3</th>\n",
       "      <td>3</td>\n",
       "      <td>: \\n\\nName: Jane Smith\\nLocation: Bangalore, K...</td>\n",
       "    </tr>\n",
       "    <tr>\n",
       "      <th>4</th>\n",
       "      <td>4</td>\n",
       "      <td>():\\nName: John Doe\\nContact Information: \\nE...</td>\n",
       "    </tr>\n",
       "  </tbody>\n",
       "</table>\n",
       "</div>"
      ],
      "text/plain": [
       "   ID                                             Resume\n",
       "0   0   - :\\nAs a recent graduate in Computer Science...\n",
       "1   1   ()\\n\\nName: Jane Smith\\n\\nContact Information...\n",
       "2   2  : \\n\\nName: Jane Doe\\n\\nAddress: 456 Main St, ...\n",
       "3   3  : \\n\\nName: Jane Smith\\nLocation: Bangalore, K...\n",
       "4   4   ():\\nName: John Doe\\nContact Information: \\nE..."
      ]
     },
     "execution_count": 9,
     "metadata": {},
     "output_type": "execute_result"
    }
   ],
   "source": [
    "synthetic_data_path = \"../Resume-Screening-RAG-Pipeline/data/main-data/\"\n",
    "synthetic_resume_path = synthetic_data_path + \"synthetic-resumes.csv\"\n",
    "\n",
    "synthetic_resumes = pd.read_csv(synthetic_resume_path)\n",
    "synthetic_resumes.head()"
   ]
  },
  {
   "cell_type": "code",
   "execution_count": 15,
   "metadata": {},
   "outputs": [
    {
     "name": "stdout",
     "output_type": "stream",
     "text": [
      "(': \\n'\n",
      " '\\n'\n",
      " 'Name: Jane Smith\\n'\n",
      " 'Email: janesmith@email.com\\n'\n",
      " 'Location: Virginia\\n'\n",
      " '\\n'\n",
      " 'Summary:\\n'\n",
      " 'Java Developer with 3 years of experience in Software Development. '\n",
      " 'Proficient in Java, Python, and C++. Experienced in developing and '\n",
      " 'troubleshooting analytics. Skilled in identifying new ways to visualize and '\n",
      " 'analyze data. BS in Mathematics with CompTIA Security+ certification.\\n'\n",
      " '\\n'\n",
      " 'Experience:\\n'\n",
      " 'Java Developer\\n'\n",
      " 'ABC Company, Virginia\\n'\n",
      " 'March 2019 - Present\\n'\n",
      " '- Developing and troubleshooting analytics.\\n'\n",
      " '- Identifying new ways to visualize and analyze data.\\n'\n",
      " '- Producing reports based on misconfigurations and/or anomalous activity '\n",
      " 'discovered through analysis.\\n'\n",
      " '\\n'\n",
      " 'Software Developer\\n'\n",
      " 'XYZ Corporation, Virginia\\n'\n",
      " 'June 2016 - February 2019\\n'\n",
      " '- Contributed to the development of software applications.\\n'\n",
      " '- Participated in the design and development of software systems.\\n'\n",
      " '- Worked with a team of developers to deliver software solutions.\\n'\n",
      " '\\n'\n",
      " 'Education:\\n'\n",
      " 'Bachelor of Science in Mathematics\\n'\n",
      " 'George Mason University, Fairfax\\n'\n",
      " 'May 2016\\n'\n",
      " '\\n'\n",
      " 'Certifications:\\n'\n",
      " 'CompTIA Security+')\n"
     ]
    }
   ],
   "source": [
    "from pprint import pprint\n",
    "\n",
    "pprint(synthetic_resumes[\"Resume\"].iloc[12])"
   ]
  },
  {
   "cell_type": "code",
   "execution_count": 16,
   "metadata": {},
   "outputs": [
    {
     "name": "stdout",
     "output_type": "stream",
     "text": [
      "<class 'pandas.core.frame.DataFrame'>\n",
      "RangeIndex: 1000 entries, 0 to 999\n",
      "Data columns (total 2 columns):\n",
      " #   Column  Non-Null Count  Dtype \n",
      "---  ------  --------------  ----- \n",
      " 0   ID      1000 non-null   int64 \n",
      " 1   Resume  1000 non-null   object\n",
      "dtypes: int64(1), object(1)\n",
      "memory usage: 15.8+ KB\n"
     ]
    }
   ],
   "source": [
    "synthetic_resumes.info()"
   ]
  },
  {
   "cell_type": "code",
   "execution_count": null,
   "metadata": {},
   "outputs": [],
   "source": []
  }
 ],
 "metadata": {
  "kernelspec": {
   "display_name": "tf-gpu",
   "language": "python",
   "name": "python3"
  },
  "language_info": {
   "codemirror_mode": {
    "name": "ipython",
    "version": 3
   },
   "file_extension": ".py",
   "mimetype": "text/x-python",
   "name": "python",
   "nbconvert_exporter": "python",
   "pygments_lexer": "ipython3",
   "version": "3.11.4"
  }
 },
 "nbformat": 4,
 "nbformat_minor": 2
}
