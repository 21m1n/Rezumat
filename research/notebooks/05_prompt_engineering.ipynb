{
 "cells": [
  {
   "cell_type": "code",
   "execution_count": 1,
   "metadata": {},
   "outputs": [],
   "source": [
    "import _resume_eval_import_helper"
   ]
  },
  {
   "cell_type": "code",
   "execution_count": 2,
   "metadata": {},
   "outputs": [],
   "source": [
    "import json\n",
    "from langchain_core.prompts import PromptTemplate\n",
    "from langchain_groq import ChatGroq\n",
    "from langchain_openai import ChatOpenAI \n",
    "from langchain_anthropic import ChatAnthropic\n",
    "from langchain_ollama import ChatOllama\n",
    "from langchain_core.output_parsers import JsonOutputParser, StrOutputParser\n",
    "\n",
    "from prompts.resume_eval_llama3 import RESUME_EVALUATION_PROMPT\n"
   ]
  },
  {
   "cell_type": "code",
   "execution_count": 3,
   "metadata": {},
   "outputs": [],
   "source": [
    "temperature = 0\n",
    "max_tokens = 2048\n",
    "\n",
    "groq_llm = ChatGroq(model=\"llama3-70b-8192\", temperature=temperature, max_tokens=max_tokens)\n",
    "gpt_llm = ChatOpenAI(model=\"gpt-3.5-turbo\", temperature=temperature, max_tokens=max_tokens)\n",
    "anthropic_llm = ChatAnthropic(model=\"claude-3-5-sonnet-20240620\", temperature=temperature, max_tokens=max_tokens)\n",
    "llama3_1_llm = ChatOllama(model=\"llama3.1:8b\", temperature=temperature, max_tokens=max_tokens)\n",
    "\n",
    "resume_eval_prompt = PromptTemplate(\n",
    "    input_variables=[\"job_description\", \"resume\"],\n",
    "    template=RESUME_EVALUATION_PROMPT\n",
    "    )\n"
   ]
  },
  {
   "cell_type": "code",
   "execution_count": 8,
   "metadata": {},
   "outputs": [],
   "source": [
    "# llama3\n",
    "groq_grader = resume_eval_prompt | groq_llm | JsonOutputParser()\n",
    "groq_result = groq_grader.invoke({\"job_description\": jd, \"resume\": cv})"
   ]
  },
  {
   "cell_type": "code",
   "execution_count": 9,
   "metadata": {},
   "outputs": [
    {
     "name": "stdout",
     "output_type": "stream",
     "text": [
      "{'assessment': {'missing_skills': ['SQL', 'Python', 'AWS'],\n",
      "                'potential_concerns': ['lack of technical skills',\n",
      "                                       'insufficient experience'],\n",
      "                'reasons': ['candidate lacks essential technical skills',\n",
      "                            \"candidate's experience is not relevant to the \"\n",
      "                            'job'],\n",
      "                'strengths': [],\n",
      "                'suitability': 'no'},\n",
      " 'deeper_analysis': {'inferred_skills': {}},\n",
      " 'job_description_analysis': {'education': [\"Bachelor's degree in Computer \"\n",
      "                                            'Science'],\n",
      "                              'level_of_exp': 'junior',\n",
      "                              'soft_skills': ['communication', 'teamwork'],\n",
      "                              'technical_skills': {'advantageous': ['AWS'],\n",
      "                                                   'essential': ['SQL',\n",
      "                                                                 'Python']}},\n",
      " 'recalibrated_scores': {'education': 80,\n",
      "                         'experience': 40,\n",
      "                         'soft_skills': 0,\n",
      "                         'technical_skills': 0},\n",
      " 'resume_evaluation': {'missing_skills': ['SQL', 'Python', 'AWS'],\n",
      "                       'original_scores': {'education': 80,\n",
      "                                           'experience': 40,\n",
      "                                           'soft_skills': 0,\n",
      "                                           'technical_skills': 0}}}\n"
     ]
    }
   ],
   "source": [
    "from pprint import pprint \n",
    "\n",
    "pprint(groq_result)\n"
   ]
  },
  {
   "cell_type": "code",
   "execution_count": 12,
   "metadata": {},
   "outputs": [],
   "source": [
    "# gpt\n",
    "gpt_grader = resume_eval_prompt | gpt_llm | JsonOutputParser()\n",
    "gpt_result = gpt_grader.invoke({\"job_description\": jd, \"resume\": cv}) \n"
   ]
  },
  {
   "cell_type": "code",
   "execution_count": null,
   "metadata": {},
   "outputs": [],
   "source": [
    "# claude\n",
    "anthropic_grader = resume_eval_prompt | anthropic_llm | JsonOutputParser()\n",
    "anthropic_result = anthropic_grader.invoke({\"job_description\": jd, \"resume\": cv})\n"
   ]
  },
  {
   "cell_type": "code",
   "execution_count": null,
   "metadata": {},
   "outputs": [],
   "source": [
    "print(anthropic_result)"
   ]
  },
  {
   "cell_type": "code",
   "execution_count": 71,
   "metadata": {},
   "outputs": [],
   "source": [
    "# llama3_1\n",
    "llama3_1_grader = resume_eval_prompt | llama3_1_llm | JsonOutputParser()\n",
    "llama3_1_result = llama3_1_grader.invoke({\"job_description\": jd, \"resume\": cv})"
   ]
  },
  {
   "cell_type": "code",
   "execution_count": 72,
   "metadata": {},
   "outputs": [
    {
     "name": "stdout",
     "output_type": "stream",
     "text": [
      "{'candidate_info': {'education': {'highest_degree': 'B.E Technology',\n",
      "                                  'location': 'Mumbai, Maharashtra',\n",
      "                                  'university': 'Mumbai University'},\n",
      "                    'experience': [{'company': 'Stormfur Technologies LLP',\n",
      "                                    'duration': 'August 2018 - Present',\n",
      "                                    'position': 'Network Security Engineer'}],\n",
      "                    'skills': ['subnetting',\n",
      "                               'supernetting',\n",
      "                               'access lists',\n",
      "                               'ACLs',\n",
      "                               'network address translation (NAT)',\n",
      "                               'VLAN',\n",
      "                               'AAA',\n",
      "                               'IPSec',\n",
      "                               'access control lists',\n",
      "                               'DHCP snooping',\n",
      "                               'private VLAN',\n",
      "                               'VLAN hopping',\n",
      "                               'VPN',\n",
      "                               'routing protocols (RIP, EIGRP, OSPF, BGP)',\n",
      "                               'switching',\n",
      "                               'control plane security',\n",
      "                               'data plane security',\n",
      "                               'management plane security',\n",
      "                               'network telemetry',\n",
      "                               'firewall',\n",
      "                               'firewall filtering technologies',\n",
      "                               'ASA failovers',\n",
      "                               'zone-based firewall',\n",
      "                               'reputation-based firewall',\n",
      "                               'security context']},\n",
      " 'job_description_analysis': {'mpls': ['Multi-Protocol Label Switching'],\n",
      "                              'routing_protocols': ['EIGRP', 'OSPF', 'BGP'],\n",
      "                              'security': ['Control Plane Security',\n",
      "                                           'Management Plane Security',\n",
      "                                           'Data Plane Security'],\n",
      "                              'switching': ['Virtual LANs (VLANs)',\n",
      "                                            'spanning tree protocol (STP)',\n",
      "                                            'queuing'],\n",
      "                              'technical_skills': ['firewall',\n",
      "                                                   'access control lists',\n",
      "                                                   'private VLANs',\n",
      "                                                   'VLAN hopping',\n",
      "                                                   'IP source guard',\n",
      "                                                   'DHCP snooping',\n",
      "                                                   'Authentication, '\n",
      "                                                   'Authorization & Accounting '\n",
      "                                                   '(AAA)',\n",
      "                                                   'IP Security (IPsec)']},\n",
      " 'matching_percentage': 80}\n"
     ]
    }
   ],
   "source": [
    "pprint(llama3_1_result)"
   ]
  },
  {
   "cell_type": "code",
   "execution_count": null,
   "metadata": {},
   "outputs": [],
   "source": []
  }
 ],
 "metadata": {
  "kernelspec": {
   "display_name": "llm",
   "language": "python",
   "name": "python3"
  },
  "language_info": {
   "codemirror_mode": {
    "name": "ipython",
    "version": 3
   },
   "file_extension": ".py",
   "mimetype": "text/x-python",
   "name": "python",
   "nbconvert_exporter": "python",
   "pygments_lexer": "ipython3",
   "version": "3.11.3"
  }
 },
 "nbformat": 4,
 "nbformat_minor": 2
}
